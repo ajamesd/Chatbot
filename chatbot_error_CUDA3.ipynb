{
 "cells": [
  {
   "cell_type": "code",
   "execution_count": 1,
   "metadata": {},
   "outputs": [
    {
     "name": "stdout",
     "output_type": "stream",
     "text": [
      "Requirement already satisfied: scikit-learn in /home/studio-lab-user/.conda/envs/default/lib/python3.9/site-packages (1.2.2)\n",
      "Requirement already satisfied: joblib>=1.1.1 in /home/studio-lab-user/.conda/envs/default/lib/python3.9/site-packages (from scikit-learn) (1.2.0)\n",
      "Requirement already satisfied: threadpoolctl>=2.0.0 in /home/studio-lab-user/.conda/envs/default/lib/python3.9/site-packages (from scikit-learn) (3.1.0)\n",
      "Requirement already satisfied: numpy>=1.17.3 in /home/studio-lab-user/.conda/envs/default/lib/python3.9/site-packages (from scikit-learn) (1.24.3)\n",
      "Requirement already satisfied: scipy>=1.3.2 in /home/studio-lab-user/.conda/envs/default/lib/python3.9/site-packages (from scikit-learn) (1.10.1)\n",
      "Note: you may need to restart the kernel to use updated packages.\n"
     ]
    }
   ],
   "source": [
    "%pip install scikit-learn"
   ]
  },
  {
   "cell_type": "code",
   "execution_count": 2,
   "metadata": {},
   "outputs": [
    {
     "name": "stdout",
     "output_type": "stream",
     "text": [
      "Requirement already satisfied: num2words in /home/studio-lab-user/.conda/envs/default/lib/python3.9/site-packages (0.5.12)\n",
      "Requirement already satisfied: docopt>=0.6.2 in /home/studio-lab-user/.conda/envs/default/lib/python3.9/site-packages (from num2words) (0.6.2)\n",
      "Note: you may need to restart the kernel to use updated packages.\n"
     ]
    }
   ],
   "source": [
    "%pip install num2words"
   ]
  },
  {
   "cell_type": "code",
   "execution_count": 3,
   "metadata": {
    "ExecuteTime": {
     "end_time": "2023-05-14T02:58:32.305185Z",
     "start_time": "2023-05-14T02:58:30.152562Z"
    },
    "collapsed": false,
    "jupyter": {
     "outputs_hidden": false
    }
   },
   "outputs": [],
   "source": [
    "import torch\n",
    "import nltk\n",
    "import numpy as np\n",
    "import pandas as pd\n",
    "import gzip\n",
    "import torch\n",
    "import requests\n",
    "import json\n",
    "from nltk.corpus import brown\n",
    "from torch.utils.data import Dataset, DataLoader\n",
    "import random\n",
    "import io\n",
    "from io import open\n",
    "import unicodedata\n",
    "import string\n",
    "import re\n",
    "import random\n",
    "import torch\n",
    "import torch.nn as nn\n",
    "from torch import optim\n",
    "import torch.nn.functional as F\n",
    "from nltk.stem.porter import PorterStemmer\n",
    "stemmer = PorterStemmer()\n",
    "import json\n",
    "from collections import Counter\n",
    "import torch.nn.functional as F\n",
    "import requests\n",
    "import pandas as pd\n",
    "import nltk\n",
    "from nltk.probability import FreqDist\n",
    "import string\n",
    "from nltk.stem import SnowballStemmer\n",
    "import num2words\n",
    "from torch.utils.data import TensorDataset, DataLoader\n",
    "import matplotlib.pyplot as plt\n",
    "import sklearn\n",
    "from sklearn.model_selection import train_test_split\n",
    "import num2words\n",
    "import time"
   ]
  },
  {
   "cell_type": "code",
   "execution_count": 4,
   "metadata": {},
   "outputs": [],
   "source": [
    "device = torch.device('cuda' if torch.cuda.is_available() else 'cpu')"
   ]
  },
  {
   "cell_type": "code",
   "execution_count": 5,
   "metadata": {},
   "outputs": [
    {
     "data": {
      "text/plain": [
       "device(type='cuda')"
      ]
     },
     "execution_count": 5,
     "metadata": {},
     "output_type": "execute_result"
    }
   ],
   "source": [
    "device"
   ]
  },
  {
   "cell_type": "code",
   "execution_count": 6,
   "metadata": {},
   "outputs": [],
   "source": [
    "# Download SQuAD2 dataset\n",
    "url = \"https://rajpurkar.github.io/SQuAD-explorer/dataset/train-v2.0.json\"\n",
    "response = requests.get(url)\n",
    "\n",
    "#Save the dataset to a file\n",
    "dataset_file = \"squad2.json\"\n",
    "with open(dataset_file, 'wb') as f:\n",
    "   f.write(response.content)"
   ]
  },
  {
   "cell_type": "markdown",
   "metadata": {},
   "source": []
  },
  {
   "cell_type": "code",
   "execution_count": 7,
   "metadata": {},
   "outputs": [
    {
     "name": "stderr",
     "output_type": "stream",
     "text": [
      "[nltk_data] Downloading package stopwords to /home/studio-lab-\n",
      "[nltk_data]     user/nltk_data...\n",
      "[nltk_data]   Package stopwords is already up-to-date!\n"
     ]
    },
    {
     "data": {
      "text/plain": [
       "True"
      ]
     },
     "execution_count": 7,
     "metadata": {},
     "output_type": "execute_result"
    }
   ],
   "source": [
    "#download stopwords\n",
    "nltk.download('stopwords')"
   ]
  },
  {
   "cell_type": "code",
   "execution_count": 8,
   "metadata": {
    "ExecuteTime": {
     "end_time": "2023-05-14T02:59:23.405379Z",
     "start_time": "2023-05-14T02:59:23.382743Z"
    },
    "collapsed": false,
    "jupyter": {
     "outputs_hidden": false
    }
   },
   "outputs": [],
   "source": [
    "#We will use this function on each file in the dataset - test and train\n",
    "#only the filename is required as the previous function returns the specified file to the same location\n",
    "\n",
    "def extract_squad_data(file_name):\n",
    "    with open(file_name, 'r', encoding='utf-8') as f:\n",
    "        file_name = json.load(f)\n",
    "\n",
    "    paragraphs = []\n",
    "    for article in file_name['data']:\n",
    "        for paragraph in article['paragraphs']:\n",
    "            for qa in paragraph['qas']:\n",
    "                question = qa['question']\n",
    "                answers = [answer['text'] for answer in qa['answers']]\n",
    "                for answer in answers:\n",
    "                    paragraphs.append((question, answer))\n",
    "\n",
    "    df = pd.DataFrame(paragraphs, columns=['Question', 'Answer'])\n",
    "    return df"
   ]
  },
  {
   "cell_type": "code",
   "execution_count": 9,
   "metadata": {
    "ExecuteTime": {
     "end_time": "2023-05-14T02:59:25.715029Z",
     "start_time": "2023-05-14T02:59:24.424164Z"
    },
    "collapsed": false,
    "jupyter": {
     "outputs_hidden": false
    }
   },
   "outputs": [],
   "source": [
    "#convert .json files to dataframes\n",
    "squad_df = extract_squad_data(\"squad2.json\") "
   ]
  },
  {
   "cell_type": "code",
   "execution_count": 10,
   "metadata": {},
   "outputs": [],
   "source": [
    "import numpy as np\n",
    "import matplotlib.pyplot as plt\n",
    "\n",
    "def plot_word_histogram_side_by_side(dataframe, question_column, answer_column, title):\n",
    "    # Combine all the words from the question_column into a single string\n",
    "    all_question_words = ' '.join(dataframe[question_column].values.tolist())\n",
    "\n",
    "    # Split the string into individual words for the question_column\n",
    "    question_word_list = all_question_words.split()\n",
    "\n",
    "    # Combine all the words from the answer_column into a single string\n",
    "    all_answer_words = ' '.join(dataframe[answer_column].values.tolist())\n",
    "\n",
    "    # Split the string into individual words for the answer_column\n",
    "    answer_word_list = all_answer_words.split()\n",
    "\n",
    "    # Count the frequency of each word for the question_column\n",
    "    question_word_counts = {}\n",
    "    for word in question_word_list:\n",
    "        question_word_counts[word] = question_word_counts.get(word, 0) + 1\n",
    "\n",
    "    # Count the frequency of each word for the answer_column\n",
    "    answer_word_counts = {}\n",
    "    for word in answer_word_list:\n",
    "        answer_word_counts[word] = answer_word_counts.get(word, 0) + 1\n",
    "\n",
    "    # Calculate the frequency buckets for the question_column\n",
    "    question_bucket_counts = [0] * 10\n",
    "    for count in question_word_counts.values():\n",
    "        if count < 5:\n",
    "            question_bucket_counts[0] += 1\n",
    "        elif count < 10:\n",
    "            question_bucket_counts[1] += 1\n",
    "        elif count < 15:\n",
    "            question_bucket_counts[2] += 1\n",
    "        elif count < 20:\n",
    "            question_bucket_counts[3] += 1\n",
    "        elif count < 25:\n",
    "            question_bucket_counts[4] += 1\n",
    "        elif count < 30:\n",
    "            question_bucket_counts[5] += 1\n",
    "        elif count < 35:\n",
    "            question_bucket_counts[6] += 1\n",
    "        elif count < 40:\n",
    "            question_bucket_counts[7] += 1\n",
    "        elif count < 45:\n",
    "            question_bucket_counts[8] += 1\n",
    "        else:\n",
    "            question_bucket_counts[9] += 1\n",
    "\n",
    "    # Calculate the frequency buckets for the answer_column\n",
    "    answer_bucket_counts = [0] * 10\n",
    "    for count in answer_word_counts.values():\n",
    "        if count < 5:\n",
    "            answer_bucket_counts[0] += 1\n",
    "        elif count < 10:\n",
    "            answer_bucket_counts[1] += 1\n",
    "        elif count < 15:\n",
    "            answer_bucket_counts[2] += 1\n",
    "        elif count < 20:\n",
    "            answer_bucket_counts[3] += 1\n",
    "        elif count < 25:\n",
    "            answer_bucket_counts[4] += 1\n",
    "        elif count < 30:\n",
    "            answer_bucket_counts[5] += 1\n",
    "        elif count < 35:\n",
    "            answer_bucket_counts[6] += 1\n",
    "        elif count < 40:\n",
    "            answer_bucket_counts[7] += 1\n",
    "        elif count < 45:\n",
    "            answer_bucket_counts[8] += 1\n",
    "        else:\n",
    "            answer_bucket_counts[9] += 1\n",
    "\n",
    "    # Calculate the total word count (Question + Answer)\n",
    "    total_word_list = question_word_list + answer_word_list\n",
    "    total_word_count = len(total_word_list)\n",
    "\n",
    "    # Set the width of the bars\n",
    "    bar_width = 0.35\n",
    "\n",
    "    # Set the x locations of the bars\n",
    "    r1 = np.arange(len(question_bucket_counts))\n",
    "    r2 = [x + bar_width for x in r1]\n",
    "\n",
    "    # Plot the histogram side by side\n",
    "    plt.bar(r1, question_bucket_counts, color='b', width=bar_width, label=f'{question_column}')\n",
    "    plt.bar(r2, answer_bucket_counts, color='orange', width=bar_width, label=f'{answer_column}')\n",
    "\n",
    "    # Add a separate box/call out for total word count\n",
    "    plt.text(len(question_bucket_counts) / 2, max(max(question_bucket_counts), max(answer_bucket_counts)),\n",
    "             f'Total Words: {total_word_count}', ha='center', va='center', bbox=dict(facecolor='lightgray', edgecolor='black', boxstyle='round'))\n",
    "\n",
    "    # Add labels, title, and legend\n",
    "    plt.xlabel('Frequency Range')\n",
    "    plt.ylabel('Count')\n",
    "    plt.title(title)\n",
    "    plt.xticks([r + bar_width/2 for r in range(len(question_bucket_counts))], ['0-4', '5-9', '10-14', '15-19', '20-24',\n",
    "                                                                        '25-29', '30-34', '35-39', '40-44', '45+'])\n",
    "    plt.legend()\n",
    "\n",
    "    # Show the plot\n",
    "    plt.show()\n",
    "\n",
    "\n"
   ]
  },
  {
   "cell_type": "code",
   "execution_count": 11,
   "metadata": {},
   "outputs": [
    {
     "data": {
      "image/png": "[encoded data removed]",
      "text/plain": [
       "<Figure size 640x480 with 1 Axes>"
      ]
     },
     "metadata": {},
     "output_type": "display_data"
    }
   ],
   "source": [
    "plot_word_histogram_side_by_side(squad_df, 'Question', 'Answer', 'Word frequency comparision for raw data')"
   ]
  },
  {
   "cell_type": "code",
   "execution_count": 12,
   "metadata": {},
   "outputs": [],
   "source": [
    "#This Histogram shows the vast majority of the words appearly very infreqently. \n",
    "# This may negantivitly affect performance as such frequnctly appearing words may have little informational value and act as noise \n",
    "# Hence data the data cleaning below (ext cleaning, tokenising, removing stopwords, removing rare words (<2))"
   ]
  },
  {
   "cell_type": "code",
   "execution_count": 13,
   "metadata": {},
   "outputs": [
    {
     "name": "stdout",
     "output_type": "stream",
     "text": [
      "Training Vocab trg Raw\n",
      "~~~~~~~~~~~~~~~~~~~~~~~~~~~~~~~~~\n",
      "0             When did Beyonce start becoming popular?\n",
      "1    What areas did Beyonce compete in when she was...\n",
      "2    When did Beyonce leave Destiny's Child and bec...\n",
      "3        In what city and state did Beyonce  grow up? \n",
      "4           In which decade did Beyonce become famous?\n",
      "Name: Question, dtype: object\n",
      "~~~~~~~~~~~~~~~~~~~~~~~~~~~~~~~~~\n",
      "Testing Vocab src Raw\n",
      "0      in the late 1990s\n",
      "1    singing and dancing\n",
      "2                   2003\n",
      "3         Houston, Texas\n",
      "4             late 1990s\n",
      "Name: Answer, dtype: object\n",
      "~~~~~~~~~~~~~~~~~~~~~~~~~~~~~~~~~\n"
     ]
    }
   ],
   "source": [
    "#sample of src/answer pairs for raw datat\n",
    "print(\"Training Vocab trg Raw\")\n",
    "print(\"~~~~~~~~~~~~~~~~~~~~~~~~~~~~~~~~~\")\n",
    "print(squad_df['Question'].head(5))\n",
    "print(\"~~~~~~~~~~~~~~~~~~~~~~~~~~~~~~~~~\")\n",
    "print(\"Testing Vocab src Raw\")\n",
    "print(squad_df['Answer'].head(5))\n",
    "print(\"~~~~~~~~~~~~~~~~~~~~~~~~~~~~~~~~~\")"
   ]
  },
  {
   "cell_type": "code",
   "execution_count": 14,
   "metadata": {},
   "outputs": [
    {
     "data": {
      "text/plain": [
       "\"#pre-cleaned questions and trg to list\\nraw_src = train_df['Question'].tolist()\\nraw_answers = train_df['Answer'].tolist()\""
      ]
     },
     "execution_count": 14,
     "metadata": {},
     "output_type": "execute_result"
    }
   ],
   "source": [
    "\"\"\"#pre-cleaned questions and trg to list\n",
    "raw_src = train_df['Question'].tolist()\n",
    "raw_answers = train_df['Answer'].tolist()\"\"\""
   ]
  },
  {
   "cell_type": "code",
   "execution_count": 15,
   "metadata": {},
   "outputs": [],
   "source": [
    "#Text cleaning, tokenising, removing stopwords, removing rare words (<2)\n",
    "import pandas as pd\n",
    "import nltk\n",
    "from nltk.probability import FreqDist\n",
    "from nltk.corpus import stopwords\n",
    "import string\n",
    "from nltk.stem import SnowballStemmer\n",
    "from num2words import num2words\n",
    "\n",
    "stemmer = SnowballStemmer(\"english\")\n",
    "stop_words = set(stopwords.words('english'))  # NLTK's list of English stop words\n",
    "\n",
    "def clean_text(df, min_freq=2):  # min_freq: minimum frequency to keep a token\n",
    "    cleaned_df = df.copy()\n",
    "    all_tokens = []  # List to store all tokens for frequency calculation\n",
    "    \n",
    "    for column in cleaned_df:\n",
    "        cleaned_df[column] = cleaned_df[column].apply(lambda sentence: process_sentence(sentence, all_tokens))\n",
    "        \n",
    "    # Create frequency distribution of tokens\n",
    "    freq_dist = FreqDist(all_tokens)\n",
    "    \n",
    "    # Identify rare tokens\n",
    "    rare_tokens = {token for token, freq in freq_dist.items() if freq < min_freq}\n",
    "    \n",
    "    # Remove rare tokens from the dataframe\n",
    "    for column in cleaned_df:\n",
    "        cleaned_df[column] = cleaned_df[column].apply(lambda sentence: ' '.join(token for token in sentence.split() if token not in rare_tokens))\n",
    "        \n",
    "    return cleaned_df\n",
    "\n",
    "def process_sentence(sentence, all_tokens):\n",
    "    sentence = ''.join([s.lower() for s in sentence if s not in string.punctuation])\n",
    "    sentence = ' '.join(stemmer.stem(w) for w in sentence.split())\n",
    "    \n",
    "    # Convert numbers to words\n",
    "    sentence = ' '.join(convert_num_to_words(w) for w in sentence.split())\n",
    "    \n",
    "    # Remove stop words\n",
    "    sentence = ' '.join(w for w in sentence.split() if w not in stop_words)\n",
    "    \n",
    "    tokens = nltk.tokenize.RegexpTokenizer(r'\\w+').tokenize(sentence)\n",
    "    \n",
    "    # Add tokens to the all_tokens list\n",
    "    all_tokens.extend(tokens)\n",
    "    \n",
    "    return ' '.join(tokens)\n",
    "\n",
    "def convert_num_to_words(s):\n",
    "    try:\n",
    "        # Remove comma from numbers\n",
    "        s = s.replace(',', '')\n",
    "        # If the string represents a fraction, convert both parts separately\n",
    "        if '/' in s:\n",
    "            numerator, denominator = s.split('/')\n",
    "            return num2words(int(numerator)) + ' over ' + num2words(int(denominator))\n",
    "        # Otherwise, try converting the string to an integer or a float\n",
    "        try:\n",
    "            return num2words(int(s))\n",
    "        except ValueError:\n",
    "            return num2words(float(s))\n",
    "    except:\n",
    "        # If any of the above attempts throw an exception, the string is not a number\n",
    "        return s\n"
   ]
  },
  {
   "cell_type": "code",
   "execution_count": 16,
   "metadata": {},
   "outputs": [],
   "source": [
    "#clean raw data files\n",
    "squad_clean_df = clean_text(squad_df)\n"
   ]
  },
  {
   "cell_type": "code",
   "execution_count": 17,
   "metadata": {},
   "outputs": [
    {
     "data": {
      "image/png": "[encoded data removed]",
      "text/plain": [
       "<Figure size 640x480 with 1 Axes>"
      ]
     },
     "metadata": {},
     "output_type": "display_data"
    }
   ],
   "source": [
    "#Histrograme of word fequency for cleaned data\n",
    "plot_word_histogram_side_by_side(squad_clean_df, 'Question', 'Answer', 'Question/Answer Word frequency comparision for Cleaned data')"
   ]
  },
  {
   "cell_type": "code",
   "execution_count": 18,
   "metadata": {},
   "outputs": [],
   "source": [
    "#A significant number of words have been removed, especally those in the 0-4 class. \n",
    "# This is to be expected since we removed all words with a frequency of less than 2 and all stop words (that tend to have a frequency of 4 or less)"
   ]
  },
  {
   "cell_type": "code",
   "execution_count": 19,
   "metadata": {},
   "outputs": [
    {
     "name": "stdout",
     "output_type": "stream",
     "text": [
      "Training Vocab Answers Cleaned\n",
      "~~~~~~~~~~~~~~~~~~~~~~~~~~~~~~~~~\n",
      "0                     beyonc start becom popular\n",
      "1                        area beyonc compet grow\n",
      "2    beyonc leav destini child becom solo singer\n",
      "3                         citi state beyonc grow\n",
      "4                      decad beyonc becom famous\n",
      "Name: Question, dtype: object\n",
      "~~~~~~~~~~~~~~~~~~~~~~~~~~~~~~~~~\n",
      "Testing Vocab src Cleaned\n",
      "0            late 1990s\n",
      "1             sing danc\n",
      "2    two thousand three\n",
      "3          houston texa\n",
      "4            late 1990s\n",
      "Name: Answer, dtype: object\n",
      "~~~~~~~~~~~~~~~~~~~~~~~~~~~~~~~~~\n"
     ]
    }
   ],
   "source": [
    "print(\"Training Vocab Answers Cleaned\")\n",
    "print(\"~~~~~~~~~~~~~~~~~~~~~~~~~~~~~~~~~\")\n",
    "print(squad_clean_df['Question'].head(5))\n",
    "print(\"~~~~~~~~~~~~~~~~~~~~~~~~~~~~~~~~~\")\n",
    "print(\"Testing Vocab src Cleaned\")\n",
    "print(squad_clean_df['Answer'].head(5))\n",
    "print(\"~~~~~~~~~~~~~~~~~~~~~~~~~~~~~~~~~\")"
   ]
  },
  {
   "cell_type": "code",
   "execution_count": 20,
   "metadata": {},
   "outputs": [],
   "source": [
    "#Vocab class that builds vocab, checks for unquie words, and assigns to an index value\n",
    "class Vocab:\n",
    "    def __init__(self):\n",
    "        self.word2index = {}\n",
    "        self.index2word = {0: \"<PAD>\", 1: \"<SOS>\", 2: \"<EOS>\", 3: \"<UNK>\"}\n",
    "        self.word2count = {}\n",
    "        self.n_words = 4  # Count <PAD>, <SOS>, <EOS>, <UNK>\n",
    "\n",
    "    def build_vocab(self, sentences):\n",
    "        unique_words = set()\n",
    "        for sentence in sentences:\n",
    "            for word in self.tokenize(sentence):\n",
    "                unique_words.add(word)\n",
    "\n",
    "        for word in unique_words:\n",
    "            self.add_word(word)\n",
    "\n",
    "    def tokenize(self, sentence):\n",
    "        return sentence.strip().split()\n",
    "\n",
    "    def add_word(self, word):\n",
    "        if word not in self.word2index:\n",
    "            self.word2index[word] = self.n_words\n",
    "            self.index2word[self.n_words] = word\n",
    "            self.word2count[word] = 1\n",
    "            self.n_words += 1\n",
    "        else:\n",
    "            self.word2count[word] += 1\n"
   ]
  },
  {
   "cell_type": "code",
   "execution_count": null,
   "metadata": {},
   "outputs": [],
   "source": []
  },
  {
   "cell_type": "code",
   "execution_count": 21,
   "metadata": {},
   "outputs": [],
   "source": [
    "questions = squad_clean_df['Question']\n",
    "answers = squad_clean_df['Answer']"
   ]
  },
  {
   "cell_type": "code",
   "execution_count": 22,
   "metadata": {},
   "outputs": [],
   "source": [
    "#cleaned question/answer pairs to Vocab\n",
    "question_vocab = Vocab()\n",
    "answer_vocab = Vocab()\n",
    "\n",
    "\n",
    "question_vocab.build_vocab(questions)\n",
    "answer_vocab.build_vocab(answers)\n",
    "\n",
    "question_vocab.add_word('<UNK>')\n",
    "answer_vocab.add_word('<UNK>')\n",
    "\n",
    "# Define and build your vocabularies\n"
   ]
  },
  {
   "cell_type": "code",
   "execution_count": 23,
   "metadata": {},
   "outputs": [
    {
     "name": "stdout",
     "output_type": "stream",
     "text": [
      "19385\n"
     ]
    }
   ],
   "source": [
    "print(question_vocab.n_words)"
   ]
  },
  {
   "cell_type": "code",
   "execution_count": 24,
   "metadata": {},
   "outputs": [
    {
     "name": "stdout",
     "output_type": "stream",
     "text": [
      "Training Set, question Vocab size in unique tokens\n",
      "19381\n",
      "#############################################\n",
      "Training Set, Answer Vocab size in unique tokens\n",
      "19261\n"
     ]
    }
   ],
   "source": [
    "#counting vocab sizes\n",
    "print(\"Training Set, question Vocab size in unique tokens\")\n",
    "question_vocab_size = len(question_vocab.word2count)\n",
    "print(question_vocab_size)\n",
    "\n",
    "print(\"#############################################\")\n",
    "\n",
    "print(\"Training Set, Answer Vocab size in unique tokens\")\n",
    "answer_vocab_size = len(answer_vocab.word2count)\n",
    "print(answer_vocab_size)"
   ]
  },
  {
   "cell_type": "code",
   "execution_count": 28,
   "metadata": {},
   "outputs": [],
   "source": [
    "def pad_or_cut(df, column_names, length):\n",
    "    pad_symbol = \"<PAD>\"\n",
    "    \n",
    "    for column_name in column_names:\n",
    "        df[column_name] = df[column_name].apply(lambda x: (x.split()[:length] + [pad_symbol]*length)[:length])\n",
    "        df[column_name] = df[column_name].apply(lambda x: ' '.join(x))\n",
    "    return df\n"
   ]
  },
  {
   "cell_type": "code",
   "execution_count": 29,
   "metadata": {},
   "outputs": [],
   "source": [
    "\n",
    "padded_df = pad_or_cut(squad_clean_df, ['Question', 'Answer'], 10)"
   ]
  },
  {
   "cell_type": "code",
   "execution_count": null,
   "metadata": {},
   "outputs": [],
   "source": []
  },
  {
   "cell_type": "code",
   "execution_count": 30,
   "metadata": {},
   "outputs": [],
   "source": [
    "def words_to_indices(df, question_vocab, answer_vocab):\n",
    "    df['Question'] = df['Question'].apply(lambda sentence: [question_vocab.word2index[word] if word in question_vocab.word2index else question_vocab.word2index['<UNK>'] for word in sentence.split()])\n",
    "    df['Answer'] = df['Answer'].apply(lambda sentence: [answer_vocab.word2index[word] if word in answer_vocab.word2index else answer_vocab.word2index['<UNK>'] for word in sentence.split()])\n",
    "    return df"
   ]
  },
  {
   "cell_type": "code",
   "execution_count": 31,
   "metadata": {},
   "outputs": [],
   "source": [
    "idx_df = words_to_indices(padded_df, question_vocab, answer_vocab) # could have used nn.padding & nn.embedding"
   ]
  },
  {
   "cell_type": "code",
   "execution_count": 32,
   "metadata": {},
   "outputs": [],
   "source": [
    "idx_df_save = idx_df"
   ]
  },
  {
   "cell_type": "code",
   "execution_count": 33,
   "metadata": {},
   "outputs": [
    {
     "data": {
      "text/html": [
       "<div>\n",
       "<style scoped>\n",
       "    .dataframe tbody tr th:only-of-type {\n",
       "        vertical-align: middle;\n",
       "    }\n",
       "\n",
       "    .dataframe tbody tr th {\n",
       "        vertical-align: top;\n",
       "    }\n",
       "\n",
       "    .dataframe thead th {\n",
       "        text-align: right;\n",
       "    }\n",
       "</style>\n",
       "<table border=\"1\" class=\"dataframe\">\n",
       "  <thead>\n",
       "    <tr style=\"text-align: right;\">\n",
       "      <th></th>\n",
       "      <th>Question</th>\n",
       "      <th>Answer</th>\n",
       "    </tr>\n",
       "  </thead>\n",
       "  <tbody>\n",
       "    <tr>\n",
       "      <th>0</th>\n",
       "      <td>[14580, 1437, 11289, 2141, 19384, 19384, 19384...</td>\n",
       "      <td>[12594, 10733, 19264, 19264, 19264, 19264, 192...</td>\n",
       "    </tr>\n",
       "    <tr>\n",
       "      <th>1</th>\n",
       "      <td>[12103, 14580, 17876, 2184, 19384, 19384, 1938...</td>\n",
       "      <td>[1232, 4866, 19264, 19264, 19264, 19264, 19264...</td>\n",
       "    </tr>\n",
       "    <tr>\n",
       "      <th>2</th>\n",
       "      <td>[14580, 7233, 8571, 12121, 11289, 17718, 11888...</td>\n",
       "      <td>[4063, 15188, 6087, 19264, 19264, 19264, 19264...</td>\n",
       "    </tr>\n",
       "    <tr>\n",
       "      <th>3</th>\n",
       "      <td>[7333, 14343, 14580, 2184, 19384, 19384, 19384...</td>\n",
       "      <td>[1865, 6513, 19264, 19264, 19264, 19264, 19264...</td>\n",
       "    </tr>\n",
       "    <tr>\n",
       "      <th>4</th>\n",
       "      <td>[110, 14580, 11289, 9720, 19384, 19384, 19384,...</td>\n",
       "      <td>[12594, 10733, 19264, 19264, 19264, 19264, 192...</td>\n",
       "    </tr>\n",
       "    <tr>\n",
       "      <th>...</th>\n",
       "      <td>...</td>\n",
       "      <td>...</td>\n",
       "    </tr>\n",
       "    <tr>\n",
       "      <th>86816</th>\n",
       "      <td>[764, 14343, 8227, 4662, 17956, 11017, 2679, 1...</td>\n",
       "      <td>[13256, 19264, 19264, 19264, 19264, 19264, 192...</td>\n",
       "    </tr>\n",
       "    <tr>\n",
       "      <th>86817</th>\n",
       "      <td>[8794, 8636, 12797, 19384, 19384, 19384, 19384...</td>\n",
       "      <td>[16814, 19264, 19264, 19264, 19264, 19264, 192...</td>\n",
       "    </tr>\n",
       "    <tr>\n",
       "      <th>86818</th>\n",
       "      <td>[3171, 7333, 7962, 8227, 2679, 19384, 19384, 1...</td>\n",
       "      <td>[19264, 19264, 19264, 19264, 19264, 19264, 192...</td>\n",
       "    </tr>\n",
       "    <tr>\n",
       "      <th>86819</th>\n",
       "      <td>[12519, 8227, 14412, 8376, 11017, 2679, 19384,...</td>\n",
       "      <td>[14710, 15188, 15352, 4885, 8691, 12290, 19264...</td>\n",
       "    </tr>\n",
       "    <tr>\n",
       "      <th>86820</th>\n",
       "      <td>[12967, 8376, 19384, 19384, 19384, 19384, 1938...</td>\n",
       "      <td>[8133, 16708, 7236, 19264, 19264, 19264, 19264...</td>\n",
       "    </tr>\n",
       "  </tbody>\n",
       "</table>\n",
       "<p>86821 rows × 2 columns</p>\n",
       "</div>"
      ],
      "text/plain": [
       "                                                Question   \n",
       "0      [14580, 1437, 11289, 2141, 19384, 19384, 19384...  \\\n",
       "1      [12103, 14580, 17876, 2184, 19384, 19384, 1938...   \n",
       "2      [14580, 7233, 8571, 12121, 11289, 17718, 11888...   \n",
       "3      [7333, 14343, 14580, 2184, 19384, 19384, 19384...   \n",
       "4      [110, 14580, 11289, 9720, 19384, 19384, 19384,...   \n",
       "...                                                  ...   \n",
       "86816  [764, 14343, 8227, 4662, 17956, 11017, 2679, 1...   \n",
       "86817  [8794, 8636, 12797, 19384, 19384, 19384, 19384...   \n",
       "86818  [3171, 7333, 7962, 8227, 2679, 19384, 19384, 1...   \n",
       "86819  [12519, 8227, 14412, 8376, 11017, 2679, 19384,...   \n",
       "86820  [12967, 8376, 19384, 19384, 19384, 19384, 1938...   \n",
       "\n",
       "                                                  Answer  \n",
       "0      [12594, 10733, 19264, 19264, 19264, 19264, 192...  \n",
       "1      [1232, 4866, 19264, 19264, 19264, 19264, 19264...  \n",
       "2      [4063, 15188, 6087, 19264, 19264, 19264, 19264...  \n",
       "3      [1865, 6513, 19264, 19264, 19264, 19264, 19264...  \n",
       "4      [12594, 10733, 19264, 19264, 19264, 19264, 192...  \n",
       "...                                                  ...  \n",
       "86816  [13256, 19264, 19264, 19264, 19264, 19264, 192...  \n",
       "86817  [16814, 19264, 19264, 19264, 19264, 19264, 192...  \n",
       "86818  [19264, 19264, 19264, 19264, 19264, 19264, 192...  \n",
       "86819  [14710, 15188, 15352, 4885, 8691, 12290, 19264...  \n",
       "86820  [8133, 16708, 7236, 19264, 19264, 19264, 19264...  \n",
       "\n",
       "[86821 rows x 2 columns]"
      ]
     },
     "execution_count": 33,
     "metadata": {},
     "output_type": "execute_result"
    }
   ],
   "source": [
    "idx_df"
   ]
  },
  {
   "cell_type": "code",
   "execution_count": 34,
   "metadata": {},
   "outputs": [
    {
     "data": {
      "text/html": [
       "<div>\n",
       "<style scoped>\n",
       "    .dataframe tbody tr th:only-of-type {\n",
       "        vertical-align: middle;\n",
       "    }\n",
       "\n",
       "    .dataframe tbody tr th {\n",
       "        vertical-align: top;\n",
       "    }\n",
       "\n",
       "    .dataframe thead th {\n",
       "        text-align: right;\n",
       "    }\n",
       "</style>\n",
       "<table border=\"1\" class=\"dataframe\">\n",
       "  <thead>\n",
       "    <tr style=\"text-align: right;\">\n",
       "      <th></th>\n",
       "      <th>Question</th>\n",
       "      <th>Answer</th>\n",
       "    </tr>\n",
       "  </thead>\n",
       "  <tbody>\n",
       "    <tr>\n",
       "      <th>0</th>\n",
       "      <td>[14580, 1437, 11289, 2141, 19384, 19384, 19384...</td>\n",
       "      <td>[12594, 10733, 19264, 19264, 19264, 19264, 192...</td>\n",
       "    </tr>\n",
       "    <tr>\n",
       "      <th>1</th>\n",
       "      <td>[12103, 14580, 17876, 2184, 19384, 19384, 1938...</td>\n",
       "      <td>[1232, 4866, 19264, 19264, 19264, 19264, 19264...</td>\n",
       "    </tr>\n",
       "    <tr>\n",
       "      <th>2</th>\n",
       "      <td>[14580, 7233, 8571, 12121, 11289, 17718, 11888...</td>\n",
       "      <td>[4063, 15188, 6087, 19264, 19264, 19264, 19264...</td>\n",
       "    </tr>\n",
       "    <tr>\n",
       "      <th>3</th>\n",
       "      <td>[7333, 14343, 14580, 2184, 19384, 19384, 19384...</td>\n",
       "      <td>[1865, 6513, 19264, 19264, 19264, 19264, 19264...</td>\n",
       "    </tr>\n",
       "    <tr>\n",
       "      <th>4</th>\n",
       "      <td>[110, 14580, 11289, 9720, 19384, 19384, 19384,...</td>\n",
       "      <td>[12594, 10733, 19264, 19264, 19264, 19264, 192...</td>\n",
       "    </tr>\n",
       "    <tr>\n",
       "      <th>5</th>\n",
       "      <td>[1268, 7277, 7952, 11888, 19384, 19384, 19384,...</td>\n",
       "      <td>[8481, 12082, 19264, 19264, 19264, 19264, 1926...</td>\n",
       "    </tr>\n",
       "    <tr>\n",
       "      <th>6</th>\n",
       "      <td>[4895, 5285, 14547, 12797, 11178, 19384, 19384...</td>\n",
       "      <td>[18097, 14151, 19264, 19264, 19264, 19264, 192...</td>\n",
       "    </tr>\n",
       "    <tr>\n",
       "      <th>7</th>\n",
       "      <td>[14479, 8571, 12121, 7277, 19384, 19384, 19384...</td>\n",
       "      <td>[9399, 19264, 19264, 19264, 19264, 19264, 1926...</td>\n",
       "    </tr>\n",
       "    <tr>\n",
       "      <th>8</th>\n",
       "      <td>[4075, 6033, 6427, 19384, 19384, 19384, 19384,...</td>\n",
       "      <td>[12594, 10733, 19264, 19264, 19264, 19264, 192...</td>\n",
       "    </tr>\n",
       "    <tr>\n",
       "      <th>9</th>\n",
       "      <td>[16053, 4075, 8571, 12121, 19384, 19384, 19384...</td>\n",
       "      <td>[7860, 11844, 19264, 19264, 19264, 19264, 1926...</td>\n",
       "    </tr>\n",
       "    <tr>\n",
       "      <th>10</th>\n",
       "      <td>[4662, 4895, 4075, 18723, 17718, 11178, 19384,...</td>\n",
       "      <td>[18097, 14151, 19264, 19264, 19264, 19264, 192...</td>\n",
       "    </tr>\n",
       "    <tr>\n",
       "      <th>11</th>\n",
       "      <td>[4075, 18723, 18203, 14206, 19384, 19384, 1938...</td>\n",
       "      <td>[4063, 15188, 6087, 19264, 19264, 19264, 19264...</td>\n",
       "    </tr>\n",
       "    <tr>\n",
       "      <th>12</th>\n",
       "      <td>[17281, 10446, 9872, 4075, 18579, 4662, 17718,...</td>\n",
       "      <td>[12290, 19264, 19264, 19264, 19264, 19264, 192...</td>\n",
       "    </tr>\n",
       "    <tr>\n",
       "      <th>13</th>\n",
       "      <td>[4075, 16053, 8571, 12121, 19384, 19384, 19384...</td>\n",
       "      <td>[7860, 11844, 19264, 19264, 19264, 19264, 1926...</td>\n",
       "    </tr>\n",
       "    <tr>\n",
       "      <th>14</th>\n",
       "      <td>[16794, 4075, 4662, 17718, 4895, 19384, 19384,...</td>\n",
       "      <td>[18097, 14151, 19264, 19264, 19264, 19264, 192...</td>\n",
       "    </tr>\n",
       "    <tr>\n",
       "      <th>15</th>\n",
       "      <td>[822, 17718, 4895, 7134, 15488, 14580, 3612, 1...</td>\n",
       "      <td>[11656, 19264, 19264, 19264, 19264, 19264, 192...</td>\n",
       "    </tr>\n",
       "    <tr>\n",
       "      <th>16</th>\n",
       "      <td>[11178, 14580, 14347, 19384, 19384, 19384, 193...</td>\n",
       "      <td>[15842, 15832, 19264, 19264, 19264, 19264, 192...</td>\n",
       "    </tr>\n",
       "    <tr>\n",
       "      <th>17</th>\n",
       "      <td>[2380, 14263, 10446, 17281, 14580, 18579, 1938...</td>\n",
       "      <td>[894, 19264, 19264, 19264, 19264, 19264, 19264...</td>\n",
       "    </tr>\n",
       "    <tr>\n",
       "      <th>18</th>\n",
       "      <td>[13185, 14580, 18250, 4662, 19219, 7602, 13633...</td>\n",
       "      <td>[6471, 19264, 19264, 19264, 19264, 19264, 1926...</td>\n",
       "    </tr>\n",
       "    <tr>\n",
       "      <th>19</th>\n",
       "      <td>[14580, 18800, 5227, 4219, 18800, 14336, 14479...</td>\n",
       "      <td>[4063, 15188, 8721, 19264, 19264, 19264, 19264...</td>\n",
       "    </tr>\n",
       "  </tbody>\n",
       "</table>\n",
       "</div>"
      ],
      "text/plain": [
       "                                             Question   \n",
       "0   [14580, 1437, 11289, 2141, 19384, 19384, 19384...  \\\n",
       "1   [12103, 14580, 17876, 2184, 19384, 19384, 1938...   \n",
       "2   [14580, 7233, 8571, 12121, 11289, 17718, 11888...   \n",
       "3   [7333, 14343, 14580, 2184, 19384, 19384, 19384...   \n",
       "4   [110, 14580, 11289, 9720, 19384, 19384, 19384,...   \n",
       "5   [1268, 7277, 7952, 11888, 19384, 19384, 19384,...   \n",
       "6   [4895, 5285, 14547, 12797, 11178, 19384, 19384...   \n",
       "7   [14479, 8571, 12121, 7277, 19384, 19384, 19384...   \n",
       "8   [4075, 6033, 6427, 19384, 19384, 19384, 19384,...   \n",
       "9   [16053, 4075, 8571, 12121, 19384, 19384, 19384...   \n",
       "10  [4662, 4895, 4075, 18723, 17718, 11178, 19384,...   \n",
       "11  [4075, 18723, 18203, 14206, 19384, 19384, 1938...   \n",
       "12  [17281, 10446, 9872, 4075, 18579, 4662, 17718,...   \n",
       "13  [4075, 16053, 8571, 12121, 19384, 19384, 19384...   \n",
       "14  [16794, 4075, 4662, 17718, 4895, 19384, 19384,...   \n",
       "15  [822, 17718, 4895, 7134, 15488, 14580, 3612, 1...   \n",
       "16  [11178, 14580, 14347, 19384, 19384, 19384, 193...   \n",
       "17  [2380, 14263, 10446, 17281, 14580, 18579, 1938...   \n",
       "18  [13185, 14580, 18250, 4662, 19219, 7602, 13633...   \n",
       "19  [14580, 18800, 5227, 4219, 18800, 14336, 14479...   \n",
       "\n",
       "                                               Answer  \n",
       "0   [12594, 10733, 19264, 19264, 19264, 19264, 192...  \n",
       "1   [1232, 4866, 19264, 19264, 19264, 19264, 19264...  \n",
       "2   [4063, 15188, 6087, 19264, 19264, 19264, 19264...  \n",
       "3   [1865, 6513, 19264, 19264, 19264, 19264, 19264...  \n",
       "4   [12594, 10733, 19264, 19264, 19264, 19264, 192...  \n",
       "5   [8481, 12082, 19264, 19264, 19264, 19264, 1926...  \n",
       "6   [18097, 14151, 19264, 19264, 19264, 19264, 192...  \n",
       "7   [9399, 19264, 19264, 19264, 19264, 19264, 1926...  \n",
       "8   [12594, 10733, 19264, 19264, 19264, 19264, 192...  \n",
       "9   [7860, 11844, 19264, 19264, 19264, 19264, 1926...  \n",
       "10  [18097, 14151, 19264, 19264, 19264, 19264, 192...  \n",
       "11  [4063, 15188, 6087, 19264, 19264, 19264, 19264...  \n",
       "12  [12290, 19264, 19264, 19264, 19264, 19264, 192...  \n",
       "13  [7860, 11844, 19264, 19264, 19264, 19264, 1926...  \n",
       "14  [18097, 14151, 19264, 19264, 19264, 19264, 192...  \n",
       "15  [11656, 19264, 19264, 19264, 19264, 19264, 192...  \n",
       "16  [15842, 15832, 19264, 19264, 19264, 19264, 192...  \n",
       "17  [894, 19264, 19264, 19264, 19264, 19264, 19264...  \n",
       "18  [6471, 19264, 19264, 19264, 19264, 19264, 1926...  \n",
       "19  [4063, 15188, 8721, 19264, 19264, 19264, 19264...  "
      ]
     },
     "execution_count": 34,
     "metadata": {},
     "output_type": "execute_result"
    }
   ],
   "source": [
    "idx_df.head(20)\n",
    "\n"
   ]
  },
  {
   "cell_type": "code",
   "execution_count": 35,
   "metadata": {},
   "outputs": [],
   "source": [
    "import sklearn"
   ]
  },
  {
   "cell_type": "code",
   "execution_count": 36,
   "metadata": {},
   "outputs": [],
   "source": [
    "from torch.utils.data import Dataset\n",
    "from sklearn.model_selection import train_test_split\n",
    "\n",
    "class QnADataset(Dataset):\n",
    "    def __init__(self, src, trg):\n",
    "        self.src = src\n",
    "        self.trg = trg\n",
    "\n",
    "    def __len__(self):\n",
    "        return len(self.src)\n",
    "\n",
    "    def __getitem__(self, idx):\n",
    "        return self.src[idx], self.trg[idx]\n",
    "\n",
    "\n"
   ]
  },
  {
   "cell_type": "code",
   "execution_count": 37,
   "metadata": {},
   "outputs": [],
   "source": [
    "# Define the proportion of the data you want in your validation and test sets\n",
    "val_size = 0.1\n",
    "test_size = 0.1\n",
    "\n",
    "# Ensure that the validation and test set proportions sum to less than 1\n",
    "assert val_size + test_size < 1\n",
    "\n",
    "# Separate your DataFrame into two separate sets of sequences.\n",
    "src = idx_df['Question'].tolist()\n",
    "trg = idx_df['Answer'].tolist()\n",
    "\n",
    "src_vocab = question_vocab\n",
    "trg_vocab = answer_vocab\n",
    "\n",
    "src_word2index = src_vocab.word2index\n",
    "trg_word2index = trg_vocab.word2index\n",
    "\n",
    "\n",
    "# Convert words in your sequences to their corresponding indices\n",
    "src = [[src_vocab.word2index[word] if word in src_vocab.word2index else src_vocab.word2index['<UNK>'] for word in sequence] for sequence in src]\n",
    "trg = [[trg_vocab.word2index[word] if word in trg_vocab.word2index else trg_vocab.word2index['<UNK>'] for word in sequence] for sequence in trg]\n",
    "\n",
    "# Convert your sequences to PyTorch tensors\n",
    "src = [torch.tensor(item) for item in src]\n",
    "trg = [torch.tensor(item) for item in trg]\n",
    "\n",
    "# First split into train and temp sets\n",
    "src_train, src_temp, trg_train, trg_temp = train_test_split(\n",
    "    src, trg, test_size=(val_size+test_size), random_state=42)\n",
    "\n",
    "# Split the temp set into validation and test sets\n",
    "src_val, src_test, trg_val, trg_test = train_test_split(\n",
    "    src_temp, trg_temp, test_size=test_size/(val_size+test_size), random_state=42)\n",
    "\n",
    "# Create datasets\n",
    "train_dataset = QnADataset(src_train, trg_train)\n",
    "val_dataset = QnADataset(src_val, trg_val)\n",
    "test_dataset = QnADataset(src_test, trg_test)\n",
    "\n",
    "# Create DataLoaders for training, validation, and test sets\n",
    "train_dataloader = DataLoader(train_dataset, batch_size=64, shuffle=True)\n",
    "val_dataloader = DataLoader(val_dataset, batch_size=64, shuffle=True)\n",
    "test_dataloader = DataLoader(test_dataset, batch_size=64, shuffle=True)\n"
   ]
  },
  {
   "cell_type": "code",
   "execution_count": null,
   "metadata": {},
   "outputs": [],
   "source": []
  },
  {
   "cell_type": "code",
   "execution_count": 39,
   "metadata": {},
   "outputs": [
    {
     "name": "stdout",
     "output_type": "stream",
     "text": [
      "19381\n"
     ]
    }
   ],
   "source": [
    "print(len(src_word2index))"
   ]
  },
  {
   "cell_type": "code",
   "execution_count": 40,
   "metadata": {},
   "outputs": [],
   "source": [
    "import torch\n",
    "import torch.nn as nn\n",
    "\n",
    "class Encoder(nn.Module):\n",
    "\n",
    "    def __init__(self, input_size, hidden_size, embedding_size, pretrained_embeddings=None):\n",
    "\n",
    "        super(Encoder, self).__init__()\n",
    "\n",
    "        self.embedding_size = embedding_size\n",
    "\n",
    "        # self.embedding provides a vector representation of the inputs to our model\n",
    "        self.embedding = nn.Embedding(input_size, embedding_size)\n",
    "\n",
    "        # Load the pretrained embeddings, if available\n",
    "        if pretrained_embeddings is not None:\n",
    "            self.embedding.weight.data.copy_(torch.from_numpy(pretrained_embeddings))\n",
    "\n",
    "        self.lstm = nn.LSTM(embedding_size, hidden_size)\n",
    "\n",
    "    def forward(self, i):\n",
    "\n",
    "        embedded = self.embedding(i)\n",
    "\n",
    "        o, (h, c) = self.lstm(embedded)\n",
    "\n",
    "        return o, h, c\n",
    "\n",
    "\n",
    "class Decoder(nn.Module):\n",
    "\n",
    "    def __init__(self, hidden_size, output_size, embedding_size, pretrained_embeddings=None):\n",
    "\n",
    "        super(Decoder, self).__init__()\n",
    "\n",
    "        self.embedding_size = embedding_size\n",
    "\n",
    "        # self.embedding provides a vector representation of the target to our model\n",
    "        self.embedding = nn.Embedding(output_size, embedding_size)\n",
    "\n",
    "        # Load the pretrained embeddings, if available\n",
    "        if pretrained_embeddings is not None:\n",
    "            self.embedding.weight.data.copy_(torch.from_numpy(pretrained_embeddings))\n",
    "\n",
    "        self.lstm = nn.LSTM(embedding_size, hidden_size)\n",
    "\n",
    "        self.output = nn.Linear(hidden_size, output_size)\n",
    "\n",
    "    def forward(self, i, h):\n",
    "\n",
    "        embedded = self.embedding(i)\n",
    "\n",
    "        o, h = self.lstm(embedded, h)\n",
    "\n",
    "        output = self.output(o)\n",
    "\n",
    "        return output, h\n",
    "\n",
    "\n",
    "class Seq2Seq(nn.Module):\n",
    "    def __init__(self, encoder_input_size, encoder_hidden_size, decoder_hidden_size, decoder_output_size, embedding_size, pretrained_embeddings=None):\n",
    "        super(Seq2Seq, self).__init__()\n",
    "        self.encoder = Encoder(encoder_input_size, encoder_hidden_size, embedding_size, pretrained_embeddings)\n",
    "        self.decoder = Decoder(decoder_hidden_size, decoder_output_size, embedding_size, pretrained_embeddings)\n",
    "\n",
    "    def forward(self, src, trg, teacher_forcing_ratio=0.5):\n",
    "        batch_size = trg.shape[1]\n",
    "        max_len = trg.shape[0]\n",
    "        trg_vocab_size = self.decoder.output.out_features\n",
    "\n",
    "        outputs = torch.zeros(max_len, batch_size, trg_vocab_size).to(src.device)\n",
    "\n",
    "        # Encode the input sequence\n",
    "        o, h, c = self.encoder(src)\n",
    "\n",
    "        # Initialize the decoder hidden state\n",
    "        decoder_hidden = (h.repeat(self.decoder.lstm.num_layers, 1, 1),\n",
    "                          c.repeat(self.decoder.lstm.num_layers, 1, 1))\n",
    "\n",
    "        # Set the input to the first token of the target sequence\n",
    "        input_token = trg[0, :]\n",
    "\n",
    "        for t in range(1, max_len):\n",
    "            output, decoder_hidden = self.decoder(input_token.unsqueeze(0), decoder_hidden)\n",
    "            outputs[t] = output.squeeze(0)\n",
    "\n",
    "            # Decide whether to use teacher forcing or not\n",
    "            teacher_force = torch.rand(1) < teacher_forcing_ratio\n",
    "\n",
    "            # Set the input token to either the target token or the predicted token\n",
    "            input_token = trg[t] if teacher_force else output.argmax(dim=2).squeeze(0)\n",
    "\n",
    "        return outputs\n"
   ]
  },
  {
   "cell_type": "code",
   "execution_count": 41,
   "metadata": {},
   "outputs": [
    {
     "name": "stdout",
     "output_type": "stream",
     "text": [
      "\n"
     ]
    }
   ],
   "source": [
    "print()"
   ]
  },
  {
   "cell_type": "code",
   "execution_count": 42,
   "metadata": {},
   "outputs": [],
   "source": [
    "# Initialize the model\n",
    "encoder_input_size = len(src_word2index)\n",
    "encoder_hidden_size = 256\n",
    "decoder_hidden_size = 256\n",
    "decoder_output_size = len(trg_word2index)\n",
    "embedding_size = 100\n",
    "#pretrained_embeddings=None\n",
    "model = Seq2Seq(encoder_input_size, encoder_hidden_size, decoder_hidden_size, decoder_output_size, embedding_size)"
   ]
  },
  {
   "cell_type": "code",
   "execution_count": 43,
   "metadata": {},
   "outputs": [
    {
     "data": {
      "text/plain": [
       "device(type='cuda')"
      ]
     },
     "execution_count": 43,
     "metadata": {},
     "output_type": "execute_result"
    }
   ],
   "source": [
    "device = torch.device(\"cuda\" if torch.cuda.is_available() else \"cpu\")\n",
    "device\n"
   ]
  },
  {
   "cell_type": "code",
   "execution_count": 44,
   "metadata": {},
   "outputs": [],
   "source": [
    "device = torch.device(\"cuda\" if torch.cuda.is_available() else \"cpu\")\n",
    "model = model.to(device)"
   ]
  },
  {
   "cell_type": "code",
   "execution_count": 45,
   "metadata": {},
   "outputs": [
    {
     "data": {
      "text/plain": [
       "Seq2Seq(\n",
       "  (encoder): Encoder(\n",
       "    (embedding): Embedding(19381, 100)\n",
       "    (lstm): LSTM(100, 256)\n",
       "  )\n",
       "  (decoder): Decoder(\n",
       "    (embedding): Embedding(19261, 100)\n",
       "    (lstm): LSTM(100, 256)\n",
       "    (output): Linear(in_features=256, out_features=19261, bias=True)\n",
       "  )\n",
       ")"
      ]
     },
     "execution_count": 45,
     "metadata": {},
     "output_type": "execute_result"
    }
   ],
   "source": [
    "model"
   ]
  },
  {
   "cell_type": "code",
   "execution_count": 46,
   "metadata": {},
   "outputs": [],
   "source": [
    "\n",
    "criterion = nn.CrossEntropyLoss()\n",
    "\n",
    "\n",
    "optimizer = torch.optim.Adam(model.parameters())"
   ]
  },
  {
   "cell_type": "code",
   "execution_count": 47,
   "metadata": {},
   "outputs": [
    {
     "data": {
      "text/plain": [
       "Seq2Seq(\n",
       "  (encoder): Encoder(\n",
       "    (embedding): Embedding(19381, 100)\n",
       "    (lstm): LSTM(100, 256)\n",
       "  )\n",
       "  (decoder): Decoder(\n",
       "    (embedding): Embedding(19261, 100)\n",
       "    (lstm): LSTM(100, 256)\n",
       "    (output): Linear(in_features=256, out_features=19261, bias=True)\n",
       "  )\n",
       ")"
      ]
     },
     "execution_count": 47,
     "metadata": {},
     "output_type": "execute_result"
    }
   ],
   "source": [
    "model"
   ]
  },
  {
   "cell_type": "markdown",
   "metadata": {},
   "source": []
  },
  {
   "cell_type": "markdown",
   "metadata": {},
   "source": []
  },
  {
   "cell_type": "code",
   "execution_count": 48,
   "metadata": {},
   "outputs": [],
   "source": [
    "# Define the training function\n",
    "def train(model, train_loader, criterion, optimizer, device):\n",
    "    model.train()\n",
    "    total_loss = 0\n",
    "\n",
    "    for src, trg in train_loader:\n",
    "        src, trg = src.to(device), trg.to(device)\n",
    "\n",
    "        optimizer.zero_grad()\n",
    "\n",
    "        output = model(src, trg)\n",
    "\n",
    "        # The output dimensions are [trg len, batch size, output dim] but the loss function expects\n",
    "        # the inputs to be [batch size, output dim] and the targets to be [batch size]\n",
    "        output = output[1:].reshape(-1, output.shape[-1])\n",
    "        trg = trg[1:].reshape(-1)\n",
    "\n",
    "        loss = criterion(output, trg)\n",
    "\n",
    "        loss.backward()\n",
    "\n",
    "        optimizer.step()\n",
    "\n",
    "        total_loss += loss.item()\n",
    "\n",
    "\n",
    "\n",
    "    return total_loss / len(train_loader)"
   ]
  },
  {
   "cell_type": "code",
   "execution_count": 49,
   "metadata": {},
   "outputs": [],
   "source": [
    "def evaluate(model, test_loader, criterion, device):\n",
    "    model.eval()\n",
    "    total_loss = 0\n",
    "\n",
    "    with torch.no_grad():\n",
    "        for src, trg in test_loader:\n",
    "            src, trg = src.to(device), trg.to(device)\n",
    "\n",
    "            output = model(src, trg, teacher_forcing_ratio=0.0)  # Disable teacher forcing during evaluation\n",
    "\n",
    "            # The output dimensions are [trg len, batch size, output dim] but the loss function expects\n",
    "            # the inputs to be [batch size, output dim] and the targets to be [batch size]\n",
    "            output = output[1:].reshape(-1, output.shape[-1])\n",
    "            trg = trg[1:].reshape(-1)\n",
    "\n",
    "            loss = criterion(output, trg)\n",
    "\n",
    "            total_loss += loss.item()\n",
    "\n",
    "    return total_loss / len(test_loader)"
   ]
  },
  {
   "cell_type": "code",
   "execution_count": 50,
   "metadata": {},
   "outputs": [
    {
     "name": "stderr",
     "output_type": "stream",
     "text": [
      "../aten/src/ATen/native/cuda/Indexing.cu:1146: indexSelectLargeIndex: block: [50,0,0], thread: [64,0,0] Assertion `srcIndex < srcSelectDimSize` failed.\n",
      "../aten/src/ATen/native/cuda/Indexing.cu:1146: indexSelectLargeIndex: block: [50,0,0], thread: [65,0,0] Assertion `srcIndex < srcSelectDimSize` failed.\n",
      "../aten/src/ATen/native/cuda/Indexing.cu:1146: indexSelectLargeIndex: block: [50,0,0], thread: [66,0,0] Assertion `srcIndex < srcSelectDimSize` failed.\n",
      "../aten/src/ATen/native/cuda/Indexing.cu:1146: indexSelectLargeIndex: block: [50,0,0], thread: [67,0,0] Assertion `srcIndex < srcSelectDimSize` failed.\n",
      "../aten/src/ATen/native/cuda/Indexing.cu:1146: indexSelectLargeIndex: block: [50,0,0], thread: [68,0,0] Assertion `srcIndex < srcSelectDimSize` failed.\n",
      "../aten/src/ATen/native/cuda/Indexing.cu:1146: indexSelectLargeIndex: block: [50,0,0], thread: [69,0,0] Assertion `srcIndex < srcSelectDimSize` failed.\n",
      "../aten/src/ATen/native/cuda/Indexing.cu:1146: indexSelectLargeIndex: block: [50,0,0], thread: [70,0,0] Assertion `srcIndex < srcSelectDimSize` failed.\n",
      "../aten/src/ATen/native/cuda/Indexing.cu:1146: indexSelectLargeIndex: block: [50,0,0], thread: [71,0,0] Assertion `srcIndex < srcSelectDimSize` failed.\n",
      "../aten/src/ATen/native/cuda/Indexing.cu:1146: indexSelectLargeIndex: block: [50,0,0], thread: [72,0,0] Assertion `srcIndex < srcSelectDimSize` failed.\n",
      "../aten/src/ATen/native/cuda/Indexing.cu:1146: indexSelectLargeIndex: block: [50,0,0], thread: [73,0,0] Assertion `srcIndex < srcSelectDimSize` failed.\n",
      "../aten/src/ATen/native/cuda/Indexing.cu:1146: indexSelectLargeIndex: block: [50,0,0], thread: [74,0,0] Assertion `srcIndex < srcSelectDimSize` failed.\n",
      "../aten/src/ATen/native/cuda/Indexing.cu:1146: indexSelectLargeIndex: block: [50,0,0], thread: [75,0,0] Assertion `srcIndex < srcSelectDimSize` failed.\n",
      "../aten/src/ATen/native/cuda/Indexing.cu:1146: indexSelectLargeIndex: block: [50,0,0], thread: [76,0,0] Assertion `srcIndex < srcSelectDimSize` failed.\n",
      "../aten/src/ATen/native/cuda/Indexing.cu:1146: indexSelectLargeIndex: block: [50,0,0], thread: [77,0,0] Assertion `srcIndex < srcSelectDimSize` failed.\n",
      "../aten/src/ATen/native/cuda/Indexing.cu:1146: indexSelectLargeIndex: block: [50,0,0], thread: [78,0,0] Assertion `srcIndex < srcSelectDimSize` failed.\n",
      "../aten/src/ATen/native/cuda/Indexing.cu:1146: indexSelectLargeIndex: block: [50,0,0], thread: [79,0,0] Assertion `srcIndex < srcSelectDimSize` failed.\n",
      "../aten/src/ATen/native/cuda/Indexing.cu:1146: indexSelectLargeIndex: block: [50,0,0], thread: [80,0,0] Assertion `srcIndex < srcSelectDimSize` failed.\n",
      "../aten/src/ATen/native/cuda/Indexing.cu:1146: indexSelectLargeIndex: block: [50,0,0], thread: [81,0,0] Assertion `srcIndex < srcSelectDimSize` failed.\n",
      "../aten/src/ATen/native/cuda/Indexing.cu:1146: indexSelectLargeIndex: block: [50,0,0], thread: [82,0,0] Assertion `srcIndex < srcSelectDimSize` failed.\n",
      "../aten/src/ATen/native/cuda/Indexing.cu:1146: indexSelectLargeIndex: block: [50,0,0], thread: [83,0,0] Assertion `srcIndex < srcSelectDimSize` failed.\n",
      "../aten/src/ATen/native/cuda/Indexing.cu:1146: indexSelectLargeIndex: block: [50,0,0], thread: [84,0,0] Assertion `srcIndex < srcSelectDimSize` failed.\n",
      "../aten/src/ATen/native/cuda/Indexing.cu:1146: indexSelectLargeIndex: block: [50,0,0], thread: [85,0,0] Assertion `srcIndex < srcSelectDimSize` failed.\n",
      "../aten/src/ATen/native/cuda/Indexing.cu:1146: indexSelectLargeIndex: block: [50,0,0], thread: [86,0,0] Assertion `srcIndex < srcSelectDimSize` failed.\n",
      "../aten/src/ATen/native/cuda/Indexing.cu:1146: indexSelectLargeIndex: block: [50,0,0], thread: [87,0,0] Assertion `srcIndex < srcSelectDimSize` failed.\n",
      "../aten/src/ATen/native/cuda/Indexing.cu:1146: indexSelectLargeIndex: block: [50,0,0], thread: [88,0,0] Assertion `srcIndex < srcSelectDimSize` failed.\n",
      "../aten/src/ATen/native/cuda/Indexing.cu:1146: indexSelectLargeIndex: block: [50,0,0], thread: [89,0,0] Assertion `srcIndex < srcSelectDimSize` failed.\n",
      "../aten/src/ATen/native/cuda/Indexing.cu:1146: indexSelectLargeIndex: block: [50,0,0], thread: [90,0,0] Assertion `srcIndex < srcSelectDimSize` failed.\n",
      "../aten/src/ATen/native/cuda/Indexing.cu:1146: indexSelectLargeIndex: block: [50,0,0], thread: [91,0,0] Assertion `srcIndex < srcSelectDimSize` failed.\n",
      "../aten/src/ATen/native/cuda/Indexing.cu:1146: indexSelectLargeIndex: block: [50,0,0], thread: [92,0,0] Assertion `srcIndex < srcSelectDimSize` failed.\n",
      "../aten/src/ATen/native/cuda/Indexing.cu:1146: indexSelectLargeIndex: block: [50,0,0], thread: [93,0,0] Assertion `srcIndex < srcSelectDimSize` failed.\n",
      "../aten/src/ATen/native/cuda/Indexing.cu:1146: indexSelectLargeIndex: block: [50,0,0], thread: [94,0,0] Assertion `srcIndex < srcSelectDimSize` failed.\n",
      "../aten/src/ATen/native/cuda/Indexing.cu:1146: indexSelectLargeIndex: block: [50,0,0], thread: [95,0,0] Assertion `srcIndex < srcSelectDimSize` failed.\n"
     ]
    },
    {
     "ename": "RuntimeError",
     "evalue": "cuDNN error: CUDNN_STATUS_INTERNAL_ERROR",
     "output_type": "error",
     "traceback": [
      "\u001b[0;31m---------------------------------------------------------------------------\u001b[0m",
      "\u001b[0;31mRuntimeError\u001b[0m                              Traceback (most recent call last)",
      "\u001b[0;32m/tmp/ipykernel_371/20895273.py\u001b[0m in \u001b[0;36m<cell line: 9>\u001b[0;34m()\u001b[0m\n\u001b[1;32m     10\u001b[0m     \u001b[0mstart_time\u001b[0m \u001b[0;34m=\u001b[0m \u001b[0mtime\u001b[0m\u001b[0;34m.\u001b[0m\u001b[0mtime\u001b[0m\u001b[0;34m(\u001b[0m\u001b[0;34m)\u001b[0m  \u001b[0;31m# Start time for the epoch\u001b[0m\u001b[0;34m\u001b[0m\u001b[0;34m\u001b[0m\u001b[0m\n\u001b[1;32m     11\u001b[0m \u001b[0;34m\u001b[0m\u001b[0m\n\u001b[0;32m---> 12\u001b[0;31m     \u001b[0mtrain_loss\u001b[0m \u001b[0;34m=\u001b[0m \u001b[0mtrain\u001b[0m\u001b[0;34m(\u001b[0m\u001b[0mmodel\u001b[0m\u001b[0;34m,\u001b[0m \u001b[0mtrain_dataloader\u001b[0m\u001b[0;34m,\u001b[0m \u001b[0mcriterion\u001b[0m\u001b[0;34m,\u001b[0m \u001b[0moptimizer\u001b[0m\u001b[0;34m,\u001b[0m \u001b[0mdevice\u001b[0m\u001b[0;34m)\u001b[0m\u001b[0;34m\u001b[0m\u001b[0;34m\u001b[0m\u001b[0m\n\u001b[0m\u001b[1;32m     13\u001b[0m     \u001b[0mtest_loss\u001b[0m \u001b[0;34m=\u001b[0m \u001b[0mevaluate\u001b[0m\u001b[0;34m(\u001b[0m\u001b[0mmodel\u001b[0m\u001b[0;34m,\u001b[0m \u001b[0mtest_dataloader\u001b[0m\u001b[0;34m,\u001b[0m \u001b[0mcriterion\u001b[0m\u001b[0;34m,\u001b[0m \u001b[0mdevice\u001b[0m\u001b[0;34m)\u001b[0m\u001b[0;34m\u001b[0m\u001b[0;34m\u001b[0m\u001b[0m\n\u001b[1;32m     14\u001b[0m \u001b[0;34m\u001b[0m\u001b[0m\n",
      "\u001b[0;32m/tmp/ipykernel_371/297630851.py\u001b[0m in \u001b[0;36mtrain\u001b[0;34m(model, train_loader, criterion, optimizer, device)\u001b[0m\n\u001b[1;32m      9\u001b[0m         \u001b[0moptimizer\u001b[0m\u001b[0;34m.\u001b[0m\u001b[0mzero_grad\u001b[0m\u001b[0;34m(\u001b[0m\u001b[0;34m)\u001b[0m\u001b[0;34m\u001b[0m\u001b[0;34m\u001b[0m\u001b[0m\n\u001b[1;32m     10\u001b[0m \u001b[0;34m\u001b[0m\u001b[0m\n\u001b[0;32m---> 11\u001b[0;31m         \u001b[0moutput\u001b[0m \u001b[0;34m=\u001b[0m \u001b[0mmodel\u001b[0m\u001b[0;34m(\u001b[0m\u001b[0msrc\u001b[0m\u001b[0;34m,\u001b[0m \u001b[0mtrg\u001b[0m\u001b[0;34m)\u001b[0m\u001b[0;34m\u001b[0m\u001b[0;34m\u001b[0m\u001b[0m\n\u001b[0m\u001b[1;32m     12\u001b[0m \u001b[0;34m\u001b[0m\u001b[0m\n\u001b[1;32m     13\u001b[0m         \u001b[0;31m# The output dimensions are [trg len, batch size, output dim] but the loss function expects\u001b[0m\u001b[0;34m\u001b[0m\u001b[0;34m\u001b[0m\u001b[0m\n",
      "\u001b[0;32m~/.conda/envs/default/lib/python3.9/site-packages/torch/nn/modules/module.py\u001b[0m in \u001b[0;36m_call_impl\u001b[0;34m(self, *args, **kwargs)\u001b[0m\n\u001b[1;32m   1499\u001b[0m                 \u001b[0;32mor\u001b[0m \u001b[0m_global_backward_pre_hooks\u001b[0m \u001b[0;32mor\u001b[0m \u001b[0m_global_backward_hooks\u001b[0m\u001b[0;34m\u001b[0m\u001b[0;34m\u001b[0m\u001b[0m\n\u001b[1;32m   1500\u001b[0m                 or _global_forward_hooks or _global_forward_pre_hooks):\n\u001b[0;32m-> 1501\u001b[0;31m             \u001b[0;32mreturn\u001b[0m \u001b[0mforward_call\u001b[0m\u001b[0;34m(\u001b[0m\u001b[0;34m*\u001b[0m\u001b[0margs\u001b[0m\u001b[0;34m,\u001b[0m \u001b[0;34m**\u001b[0m\u001b[0mkwargs\u001b[0m\u001b[0;34m)\u001b[0m\u001b[0;34m\u001b[0m\u001b[0;34m\u001b[0m\u001b[0m\n\u001b[0m\u001b[1;32m   1502\u001b[0m         \u001b[0;31m# Do not call functions when jit is used\u001b[0m\u001b[0;34m\u001b[0m\u001b[0;34m\u001b[0m\u001b[0m\n\u001b[1;32m   1503\u001b[0m         \u001b[0mfull_backward_hooks\u001b[0m\u001b[0;34m,\u001b[0m \u001b[0mnon_full_backward_hooks\u001b[0m \u001b[0;34m=\u001b[0m \u001b[0;34m[\u001b[0m\u001b[0;34m]\u001b[0m\u001b[0;34m,\u001b[0m \u001b[0;34m[\u001b[0m\u001b[0;34m]\u001b[0m\u001b[0;34m\u001b[0m\u001b[0;34m\u001b[0m\u001b[0m\n",
      "\u001b[0;32m/tmp/ipykernel_371/3015966662.py\u001b[0m in \u001b[0;36mforward\u001b[0;34m(self, src, trg, teacher_forcing_ratio)\u001b[0m\n\u001b[1;32m     72\u001b[0m \u001b[0;34m\u001b[0m\u001b[0m\n\u001b[1;32m     73\u001b[0m         \u001b[0;31m# Encode the input sequence\u001b[0m\u001b[0;34m\u001b[0m\u001b[0;34m\u001b[0m\u001b[0m\n\u001b[0;32m---> 74\u001b[0;31m         \u001b[0mo\u001b[0m\u001b[0;34m,\u001b[0m \u001b[0mh\u001b[0m\u001b[0;34m,\u001b[0m \u001b[0mc\u001b[0m \u001b[0;34m=\u001b[0m \u001b[0mself\u001b[0m\u001b[0;34m.\u001b[0m\u001b[0mencoder\u001b[0m\u001b[0;34m(\u001b[0m\u001b[0msrc\u001b[0m\u001b[0;34m)\u001b[0m\u001b[0;34m\u001b[0m\u001b[0;34m\u001b[0m\u001b[0m\n\u001b[0m\u001b[1;32m     75\u001b[0m \u001b[0;34m\u001b[0m\u001b[0m\n\u001b[1;32m     76\u001b[0m         \u001b[0;31m# Initialize the decoder hidden state\u001b[0m\u001b[0;34m\u001b[0m\u001b[0;34m\u001b[0m\u001b[0m\n",
      "\u001b[0;32m~/.conda/envs/default/lib/python3.9/site-packages/torch/nn/modules/module.py\u001b[0m in \u001b[0;36m_call_impl\u001b[0;34m(self, *args, **kwargs)\u001b[0m\n\u001b[1;32m   1499\u001b[0m                 \u001b[0;32mor\u001b[0m \u001b[0m_global_backward_pre_hooks\u001b[0m \u001b[0;32mor\u001b[0m \u001b[0m_global_backward_hooks\u001b[0m\u001b[0;34m\u001b[0m\u001b[0;34m\u001b[0m\u001b[0m\n\u001b[1;32m   1500\u001b[0m                 or _global_forward_hooks or _global_forward_pre_hooks):\n\u001b[0;32m-> 1501\u001b[0;31m             \u001b[0;32mreturn\u001b[0m \u001b[0mforward_call\u001b[0m\u001b[0;34m(\u001b[0m\u001b[0;34m*\u001b[0m\u001b[0margs\u001b[0m\u001b[0;34m,\u001b[0m \u001b[0;34m**\u001b[0m\u001b[0mkwargs\u001b[0m\u001b[0;34m)\u001b[0m\u001b[0;34m\u001b[0m\u001b[0;34m\u001b[0m\u001b[0m\n\u001b[0m\u001b[1;32m   1502\u001b[0m         \u001b[0;31m# Do not call functions when jit is used\u001b[0m\u001b[0;34m\u001b[0m\u001b[0;34m\u001b[0m\u001b[0m\n\u001b[1;32m   1503\u001b[0m         \u001b[0mfull_backward_hooks\u001b[0m\u001b[0;34m,\u001b[0m \u001b[0mnon_full_backward_hooks\u001b[0m \u001b[0;34m=\u001b[0m \u001b[0;34m[\u001b[0m\u001b[0;34m]\u001b[0m\u001b[0;34m,\u001b[0m \u001b[0;34m[\u001b[0m\u001b[0;34m]\u001b[0m\u001b[0;34m\u001b[0m\u001b[0;34m\u001b[0m\u001b[0m\n",
      "\u001b[0;32m/tmp/ipykernel_371/3015966662.py\u001b[0m in \u001b[0;36mforward\u001b[0;34m(self, i)\u001b[0m\n\u001b[1;32m     23\u001b[0m         \u001b[0membedded\u001b[0m \u001b[0;34m=\u001b[0m \u001b[0mself\u001b[0m\u001b[0;34m.\u001b[0m\u001b[0membedding\u001b[0m\u001b[0;34m(\u001b[0m\u001b[0mi\u001b[0m\u001b[0;34m)\u001b[0m\u001b[0;34m\u001b[0m\u001b[0;34m\u001b[0m\u001b[0m\n\u001b[1;32m     24\u001b[0m \u001b[0;34m\u001b[0m\u001b[0m\n\u001b[0;32m---> 25\u001b[0;31m         \u001b[0mo\u001b[0m\u001b[0;34m,\u001b[0m \u001b[0;34m(\u001b[0m\u001b[0mh\u001b[0m\u001b[0;34m,\u001b[0m \u001b[0mc\u001b[0m\u001b[0;34m)\u001b[0m \u001b[0;34m=\u001b[0m \u001b[0mself\u001b[0m\u001b[0;34m.\u001b[0m\u001b[0mlstm\u001b[0m\u001b[0;34m(\u001b[0m\u001b[0membedded\u001b[0m\u001b[0;34m)\u001b[0m\u001b[0;34m\u001b[0m\u001b[0;34m\u001b[0m\u001b[0m\n\u001b[0m\u001b[1;32m     26\u001b[0m \u001b[0;34m\u001b[0m\u001b[0m\n\u001b[1;32m     27\u001b[0m         \u001b[0;32mreturn\u001b[0m \u001b[0mo\u001b[0m\u001b[0;34m,\u001b[0m \u001b[0mh\u001b[0m\u001b[0;34m,\u001b[0m \u001b[0mc\u001b[0m\u001b[0;34m\u001b[0m\u001b[0;34m\u001b[0m\u001b[0m\n",
      "\u001b[0;32m~/.conda/envs/default/lib/python3.9/site-packages/torch/nn/modules/module.py\u001b[0m in \u001b[0;36m_call_impl\u001b[0;34m(self, *args, **kwargs)\u001b[0m\n\u001b[1;32m   1499\u001b[0m                 \u001b[0;32mor\u001b[0m \u001b[0m_global_backward_pre_hooks\u001b[0m \u001b[0;32mor\u001b[0m \u001b[0m_global_backward_hooks\u001b[0m\u001b[0;34m\u001b[0m\u001b[0;34m\u001b[0m\u001b[0m\n\u001b[1;32m   1500\u001b[0m                 or _global_forward_hooks or _global_forward_pre_hooks):\n\u001b[0;32m-> 1501\u001b[0;31m             \u001b[0;32mreturn\u001b[0m \u001b[0mforward_call\u001b[0m\u001b[0;34m(\u001b[0m\u001b[0;34m*\u001b[0m\u001b[0margs\u001b[0m\u001b[0;34m,\u001b[0m \u001b[0;34m**\u001b[0m\u001b[0mkwargs\u001b[0m\u001b[0;34m)\u001b[0m\u001b[0;34m\u001b[0m\u001b[0;34m\u001b[0m\u001b[0m\n\u001b[0m\u001b[1;32m   1502\u001b[0m         \u001b[0;31m# Do not call functions when jit is used\u001b[0m\u001b[0;34m\u001b[0m\u001b[0;34m\u001b[0m\u001b[0m\n\u001b[1;32m   1503\u001b[0m         \u001b[0mfull_backward_hooks\u001b[0m\u001b[0;34m,\u001b[0m \u001b[0mnon_full_backward_hooks\u001b[0m \u001b[0;34m=\u001b[0m \u001b[0;34m[\u001b[0m\u001b[0;34m]\u001b[0m\u001b[0;34m,\u001b[0m \u001b[0;34m[\u001b[0m\u001b[0;34m]\u001b[0m\u001b[0;34m\u001b[0m\u001b[0;34m\u001b[0m\u001b[0m\n",
      "\u001b[0;32m~/.conda/envs/default/lib/python3.9/site-packages/torch/nn/modules/rnn.py\u001b[0m in \u001b[0;36mforward\u001b[0;34m(self, input, hx)\u001b[0m\n\u001b[1;32m    810\u001b[0m         \u001b[0mself\u001b[0m\u001b[0;34m.\u001b[0m\u001b[0mcheck_forward_args\u001b[0m\u001b[0;34m(\u001b[0m\u001b[0minput\u001b[0m\u001b[0;34m,\u001b[0m \u001b[0mhx\u001b[0m\u001b[0;34m,\u001b[0m \u001b[0mbatch_sizes\u001b[0m\u001b[0;34m)\u001b[0m\u001b[0;34m\u001b[0m\u001b[0;34m\u001b[0m\u001b[0m\n\u001b[1;32m    811\u001b[0m         \u001b[0;32mif\u001b[0m \u001b[0mbatch_sizes\u001b[0m \u001b[0;32mis\u001b[0m \u001b[0;32mNone\u001b[0m\u001b[0;34m:\u001b[0m\u001b[0;34m\u001b[0m\u001b[0;34m\u001b[0m\u001b[0m\n\u001b[0;32m--> 812\u001b[0;31m             result = _VF.lstm(input, hx, self._flat_weights, self.bias, self.num_layers,\n\u001b[0m\u001b[1;32m    813\u001b[0m                               self.dropout, self.training, self.bidirectional, self.batch_first)\n\u001b[1;32m    814\u001b[0m         \u001b[0;32melse\u001b[0m\u001b[0;34m:\u001b[0m\u001b[0;34m\u001b[0m\u001b[0;34m\u001b[0m\u001b[0m\n",
      "\u001b[0;31mRuntimeError\u001b[0m: cuDNN error: CUDNN_STATUS_INTERNAL_ERROR"
     ]
    }
   ],
   "source": [
    "#train with time\n",
    "# Train the model\n",
    "\n",
    "train_losses = []\n",
    "test_losses = []\n",
    "\n",
    "\n",
    "num_epochs = 2\n",
    "for epoch in range(num_epochs):\n",
    "    start_time = time.time()  # Start time for the epoch\n",
    "\n",
    "    train_loss = train(model, train_dataloader, criterion, optimizer, device)\n",
    "    test_loss = evaluate(model, test_dataloader, criterion, device)\n",
    "\n",
    "    train_losses.append(train_loss)\n",
    "    test_losses.append(test_loss)\n",
    "\n",
    "    end_time = time.time()  # End time for the epoch\n",
    "    epoch_time = end_time - start_time  # Time taken for the epoch\n",
    "\n",
    "    print(f'Epoch: {epoch+1}, Train Loss: {train_loss:.4f}, Test Loss: {test_loss:.4f}, Time: {epoch_time:.2f} seconds')"
   ]
  },
  {
   "cell_type": "code",
   "execution_count": null,
   "metadata": {},
   "outputs": [],
   "source": []
  },
  {
   "cell_type": "code",
   "execution_count": null,
   "metadata": {},
   "outputs": [],
   "source": []
  },
  {
   "cell_type": "code",
   "execution_count": null,
   "metadata": {},
   "outputs": [],
   "source": []
  },
  {
   "cell_type": "code",
   "execution_count": null,
   "metadata": {},
   "outputs": [],
   "source": [
    "\"\"\"# Training function\n",
    "def train(model, iterator, optimizer, criterion, clip):\n",
    "    model.train()\n",
    "    epoch_loss = 0\n",
    "    for i, batch in enumerate(iterator):\n",
    "        src = batch.src\n",
    "        trg = batch.trg\n",
    "        optimizer.zero_grad()\n",
    "        output = model(src, trg)\n",
    "        output_dim = output.shape[-1]\n",
    "        output = output[1:].view(-1, output_dim)\n",
    "        trg = trg[1:].view(-1)\n",
    "        loss = criterion(output, trg)\n",
    "        loss.backward()\n",
    "        torch.nn.utils.clip_grad_norm_(model.parameters(), clip)\n",
    "        optimizer.step()\n",
    "        epoch_loss += loss.item()\n",
    "    return epoch_loss / len(iterator)\"\"\"\n"
   ]
  },
  {
   "cell_type": "code",
   "execution_count": null,
   "metadata": {},
   "outputs": [],
   "source": [
    "\"\"\"# Hyperparameters\n",
    "N_EPOCHS = 10\n",
    "CLIP = 1\n",
    "\n",
    "# Define an optimizer and a loss function (criterion)\n",
    "optimizer = optim.Adam(model.parameters())\n",
    "TRG_PAD_IDX = trg_vocab.word2index['<PAD>']\n",
    "criterion = nn.CrossEntropyLoss(ignore_index = TRG_PAD_IDX)\n",
    "\n",
    "# Training loop\n",
    "for epoch in range(N_EPOCHS):\n",
    "    train_loss = train(model, train_dataloader, optimizer, criterion, CLIP)\n",
    "    print(f'Epoch: {epoch+1:02} | Train Loss: {train_loss:.3f} | Train PPL: {math.exp(train_loss):7.3f}')\"\"\""
   ]
  },
  {
   "cell_type": "markdown",
   "metadata": {},
   "source": []
  }
 ],
 "metadata": {
  "kernelspec": {
   "display_name": "default:Python",
   "language": "python",
   "name": "conda-env-default-py"
  },
  "language_info": {
   "codemirror_mode": {
    "name": "ipython",
    "version": 3
   },
   "file_extension": ".py",
   "mimetype": "text/x-python",
   "name": "python",
   "nbconvert_exporter": "python",
   "pygments_lexer": "ipython3",
   "version": "3.9.16"
  }
 },
 "nbformat": 4,
 "nbformat_minor": 4
}
